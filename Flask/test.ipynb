{
 "cells": [
  {
   "cell_type": "code",
   "execution_count": 4,
   "id": "f7462b25",
   "metadata": {},
   "outputs": [],
   "source": [
    "from PIL import Image\n",
    "from yolov5 import YOLOv5  # if you're using yolov5 module (not ultralytics)\n",
    "import torch\n",
    "import pathlib\n",
    "temp = pathlib.PosixPath\n",
    "pathlib.PosixPath = pathlib.WindowsPath"
   ]
  },
  {
   "cell_type": "code",
   "execution_count": 5,
   "id": "a84590ae",
   "metadata": {},
   "outputs": [
    {
     "name": "stderr",
     "output_type": "stream",
     "text": [
      "YOLOv5  2025-4-22 Python-3.11.9 torch-2.6.0+cpu CPU\n",
      "\n",
      "c:\\Users\\Charlie\\.virtualenvs\\Downloader-F-Lfbri0\\Lib\\site-packages\\tqdm\\auto.py:21: TqdmWarning: IProgress not found. Please update jupyter and ipywidgets. See https://ipywidgets.readthedocs.io/en/stable/user_install.html\n",
      "  from .autonotebook import tqdm as notebook_tqdm\n",
      "Fusing layers... \n",
      "YOLOv5s summary: 214 layers, 7100539 parameters, 0 gradients, 16.2 GFLOPs\n",
      "Adding AutoShape... \n"
     ]
    }
   ],
   "source": [
    "model = YOLOv5(\"best.pt\", device=\"cpu\")  # or 'cuda'"
   ]
  },
  {
   "cell_type": "code",
   "execution_count": 6,
   "id": "b573f9aa",
   "metadata": {},
   "outputs": [],
   "source": [
    "image_path = 'test.jpg'\n",
    "with open(image_path, 'rb') as img_file:\n",
    "    image = Image.open(img_file)\n",
    "    image.show()"
   ]
  },
  {
   "cell_type": "code",
   "execution_count": 7,
   "id": "a86a3fc5",
   "metadata": {},
   "outputs": [
    {
     "name": "stderr",
     "output_type": "stream",
     "text": [
      "c:\\Users\\Charlie\\.virtualenvs\\Downloader-F-Lfbri0\\Lib\\site-packages\\yolov5\\models\\common.py:709: FutureWarning: `torch.cuda.amp.autocast(args...)` is deprecated. Please use `torch.amp.autocast('cuda', args...)` instead.\n",
      "  with amp.autocast(autocast):\n"
     ]
    }
   ],
   "source": [
    "\n",
    "results = model.predict(image)\n"
   ]
  },
  {
   "cell_type": "code",
   "execution_count": 13,
   "id": "414f33b1",
   "metadata": {},
   "outputs": [
    {
     "data": {
      "text/plain": [
       "[{'name': 'strawberries', 'confidence': 0.8309744000434875},\n",
       " {'name': 'sugar', 'confidence': 0.8257884979248047},\n",
       " {'name': 'strawberries', 'confidence': 0.8250472545623779},\n",
       " {'name': 'tomato', 'confidence': 0.8069589138031006},\n",
       " {'name': 'butter', 'confidence': 0.8003079891204834},\n",
       " {'name': 'carrot', 'confidence': 0.7733135223388672},\n",
       " {'name': 'spinach', 'confidence': 0.7404679656028748},\n",
       " {'name': 'tomato', 'confidence': 0.7038944363594055},\n",
       " {'name': 'heavy_cream', 'confidence': 0.6963904500007629},\n",
       " {'name': 'green_beans', 'confidence': 0.6683126091957092},\n",
       " {'name': 'banana', 'confidence': 0.6663373112678528},\n",
       " {'name': 'butter', 'confidence': 0.5805500149726868},\n",
       " {'name': 'sugar', 'confidence': 0.5713405609130859},\n",
       " {'name': 'apple', 'confidence': 0.5593742728233337},\n",
       " {'name': 'strawberries', 'confidence': 0.48438894748687744},\n",
       " {'name': 'strawberries', 'confidence': 0.4619750380516052},\n",
       " {'name': 'sweet_potato', 'confidence': 0.44178518652915955},\n",
       " {'name': 'strawberries', 'confidence': 0.3718256652355194},\n",
       " {'name': 'banana', 'confidence': 0.3712080717086792},\n",
       " {'name': 'milk', 'confidence': 0.34300217032432556},\n",
       " {'name': 'milk', 'confidence': 0.3386327922344208},\n",
       " {'name': 'apple', 'confidence': 0.33311235904693604},\n",
       " {'name': 'carrot', 'confidence': 0.3313400447368622},\n",
       " {'name': 'banana', 'confidence': 0.32329466938972473},\n",
       " {'name': 'carrot', 'confidence': 0.3214362859725952},\n",
       " {'name': 'strawberries', 'confidence': 0.30306151509284973},\n",
       " {'name': 'apple', 'confidence': 0.2613774240016937}]"
      ]
     },
     "execution_count": 13,
     "metadata": {},
     "output_type": "execute_result"
    }
   ],
   "source": [
    "# Extract JSON-like data from the Detections object\n",
    "json_output = results.pandas().xyxy[0].to_dict(orient=\"records\")  # Convert to a list of dictionaries\n",
    "filtered = [{\"name\": item[\"name\"], \"confidence\": item[\"confidence\"]} for item in json_output]\n",
    "filtered"
   ]
  }
 ],
 "metadata": {
  "kernelspec": {
   "display_name": "Downloader-F-Lfbri0",
   "language": "python",
   "name": "python3"
  },
  "language_info": {
   "codemirror_mode": {
    "name": "ipython",
    "version": 3
   },
   "file_extension": ".py",
   "mimetype": "text/x-python",
   "name": "python",
   "nbconvert_exporter": "python",
   "pygments_lexer": "ipython3",
   "version": "3.11.9"
  }
 },
 "nbformat": 4,
 "nbformat_minor": 5
}
